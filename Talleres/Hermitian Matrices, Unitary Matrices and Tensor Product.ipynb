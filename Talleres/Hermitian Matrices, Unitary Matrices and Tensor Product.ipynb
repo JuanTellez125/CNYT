{
 "cells": [
  {
   "cell_type": "markdown",
   "id": "68b69841",
   "metadata": {},
   "source": [
    "**Taller 4 - Hermitian Matrices, Unitary Matrices and Tensor Product**\n",
    "\n",
    "**Curso:** CNYT-1\n",
    "\n",
    "**Autor:** Juan Tellez "
   ]
  },
  {
   "cell_type": "code",
   "execution_count": null,
   "id": "962f3cf1",
   "metadata": {},
   "outputs": [],
   "source": []
  },
  {
   "cell_type": "code",
   "execution_count": null,
   "id": "01a5b095",
   "metadata": {},
   "outputs": [],
   "source": []
  }
 ],
 "metadata": {
  "kernelspec": {
   "display_name": "Python 3",
   "language": "python",
   "name": "python3"
  },
  "language_info": {
   "name": "python",
   "version": "3.11.9"
  }
 },
 "nbformat": 4,
 "nbformat_minor": 5
}

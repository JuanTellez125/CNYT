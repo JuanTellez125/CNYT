{
 "cells": [
  {
   "cell_type": "markdown",
   "id": "526fc2d1",
   "metadata": {},
   "source": [
    "**Taller 1 - Theory of Complex Vector Spaces**\n",
    "\n",
    "**Curso:** CNYT-1\n",
    "\n",
    "**Autor:** Juan Tellez "
   ]
  },
  {
   "cell_type": "code",
   "execution_count": 1,
   "id": "44a6f204",
   "metadata": {},
   "outputs": [],
   "source": [
    "import numpy as np"
   ]
  },
  {
   "cell_type": "markdown",
   "id": "73358c56",
   "metadata": {},
   "source": [
    "### Exercise 1: Sum of Two Complex Vectors\n",
    "Given two complex vectors \n",
    "$ v1 = \\begin{bmatrix} 1 + 2i \\\\ 3 - i \\end{bmatrix} $ \n",
    "and \n",
    "$ v2 = \\begin{bmatrix} 2 - i \\\\ 4 + 2i \\end{bmatrix} $, \n",
    "find their sum.\n"
   ]
  },
  {
   "cell_type": "code",
   "execution_count": 2,
   "id": "742ba8ea",
   "metadata": {},
   "outputs": [
    {
     "name": "stdout",
     "output_type": "stream",
     "text": [
      "La suma de los vectores v1 y v2 es: [3.+1.j 7.+1.j]\n"
     ]
    }
   ],
   "source": [
    "v1 = np.array([1 + 2j, \n",
    "               3 - 1j])\n",
    "\n",
    "v2 = np.array([2 - 1j, \n",
    "               4 + 2j])\n",
    "\n",
    "suma = v1 + v2\n",
    "print(\"La suma de los vectores v1 y v2 es:\",suma)"
   ]
  },
  {
   "cell_type": "markdown",
   "id": "24609da2",
   "metadata": {},
   "source": [
    "### Exercise 2: Negation of a Complex Vector\n",
    "Given a complex vector \n",
    "$ v = \\begin{bmatrix} 2 + 3i \\\\ 1 - 2i \\end{bmatrix} $, \n",
    "find its negation."
   ]
  },
  {
   "cell_type": "code",
   "execution_count": null,
   "id": "65eab2c9",
   "metadata": {},
   "outputs": [],
   "source": [
    "v = np.array([2 + 3j, 1 - 2j])\n",
    "neg_v = -v\n",
    "print(\"La negación del vector v es:\", neg_v)"
   ]
  },
  {
   "cell_type": "markdown",
   "id": "23b0d56d",
   "metadata": {},
   "source": [
    "### Exercise 3: Multiplication of a Complex Vector by a Scalar\n",
    "Multiply the complex vector \n",
    "$ v = \\begin{bmatrix} 1 - i \\\\ 2 + 2i \\end{bmatrix} $ \n",
    "by the complex scalar $$ 3 + i $$."
   ]
  },
  {
   "cell_type": "code",
   "execution_count": 3,
   "id": "064ee589",
   "metadata": {},
   "outputs": [
    {
     "name": "stdout",
     "output_type": "stream",
     "text": [
      "El producto del vector v3 por la constante es: [4.-2.j 4.+8.j]\n"
     ]
    }
   ],
   "source": [
    "v3 = np.array([1 - 1j, 2 + 2j])\n",
    "constante = 3 + 1j\n",
    "producto = constante * v3\n",
    "print(\"El producto del vector v3 por la constante es:\", producto)"
   ]
  },
  {
   "cell_type": "markdown",
   "id": "84a63323",
   "metadata": {},
   "source": [
    "### Exercise 4: Transpose of a Complex Vector\n",
    "Find the transpose of the complex vector \n",
    "$ v = \\begin{bmatrix} 2 - i \\\\ 3 + 4i \\end{bmatrix} $."
   ]
  },
  {
   "cell_type": "code",
   "execution_count": null,
   "id": "326553ef",
   "metadata": {},
   "outputs": [],
   "source": [
    "v4  = np.array([2 - 1j, 3 + 4j])\n",
    "transpuesta = v4.T\n",
    "print(\"la transpuesta del vector v4 es:\", transpuesta)"
   ]
  },
  {
   "cell_type": "markdown",
   "id": "6b06895d",
   "metadata": {},
   "source": [
    "### Exercise 5: Conjugate of a Complex Vector\n",
    "Compute the conjugate of the complex vector \n",
    "$ v = \\begin{bmatrix} 1 + i \\\\ 2 - 3i \\end{bmatrix} $."
   ]
  },
  {
   "cell_type": "code",
   "execution_count": null,
   "id": "b43a9652",
   "metadata": {},
   "outputs": [],
   "source": [
    "v5 = np.array([1 + 1j, 2 - 3j])\n",
    "conjugado = np.conj(v5)\n",
    "print(\"El conjugado del vector v5 es:\", conjugado)"
   ]
  },
  {
   "cell_type": "markdown",
   "id": "175ac76e",
   "metadata": {},
   "source": [
    "### Exercise 6: Adjunct (Conjugate Transpose) of a Complex Vector\n",
    "Find the adjunct (or conjugate transpose) of the complex vector \n",
    "$ v = \\begin{bmatrix} 1 - 2i \\\\ 3 + i \\end{bmatrix} $.\n"
   ]
  },
  {
   "cell_type": "code",
   "execution_count": null,
   "id": "01c5acf5",
   "metadata": {},
   "outputs": [],
   "source": [
    "v6 = np.array([1 - 2j, 3 + 1j])\n",
    "conjugado_v6 = np.conj(v6)\n",
    "transpuesta_conjugada = conjugado_v6.T\n",
    "print(\"La adjunta del vector v6 es:\", transpuesta_conjugada)"
   ]
  },
  {
   "cell_type": "markdown",
   "id": "2fa8bef9",
   "metadata": {},
   "source": [
    "### Exercise 7: Sum of Two Complex Matrices\n",
    "Given two complex matrices \n",
    "$ m1 = \\begin{bmatrix} 1 + i & 2 - i \\\\ 3 + 2i & 4 \\end{bmatrix} $\n",
    "and \n",
    "$ m2 = \\begin{bmatrix} 2 - 3i & 1 \\\\ i & 2 + 2i \\end{bmatrix} $, \n",
    "calculate their sum."
   ]
  },
  {
   "cell_type": "code",
   "execution_count": 4,
   "id": "18513b76",
   "metadata": {},
   "outputs": [
    {
     "name": "stdout",
     "output_type": "stream",
     "text": [
      "La suma de las matrices m1 y m2 es:\n",
      " [[3.-2.j 3.-1.j]\n",
      " [3.+3.j 6.+2.j]]\n"
     ]
    }
   ],
   "source": [
    "m1 = np.array([[1 + 1j, 2 - 1j],\n",
    "               [3 + 2j, 4]])\n",
    "\n",
    "m2 = np.array([[2 - 3j, 1],\n",
    "               [1j, 2 + 2j]])\n",
    "\n",
    "suma_matrices = m1 + m2\n",
    "print(\"La suma de las matrices m1 y m2 es:\\n\", suma_matrices)"
   ]
  },
  {
   "cell_type": "markdown",
   "id": "8c2d4178",
   "metadata": {},
   "source": [
    "### Exercise 8: Negation of a Complex Matrix\n",
    "Find the negation of the complex matrix \n",
    "$ m = \\begin{bmatrix} 2 + i & 3 \\\\ 1 - i & 2 + 2i \\end{bmatrix} $."
   ]
  },
  {
   "cell_type": "code",
   "execution_count": 5,
   "id": "48660450",
   "metadata": {},
   "outputs": [
    {
     "name": "stdout",
     "output_type": "stream",
     "text": [
      "La negación de la matriz m3 es:\n",
      " [[-2.-1.j -3.-0.j]\n",
      " [-1.+1.j -2.-2.j]]\n"
     ]
    }
   ],
   "source": [
    "m3 = np.array([[2 + 1j, 3],\n",
    "                [1 - 1j, 2 + 2j]])\n",
    "\n",
    "neg_m3 = -m3\n",
    "print(\"La negación de la matriz m3 es:\\n\", neg_m3)"
   ]
  },
  {
   "cell_type": "markdown",
   "id": "6a02845f",
   "metadata": {},
   "source": [
    "### Exercise 9: Multiplication of a Complex Matrix by a Scalar\n",
    "Multiply the complex matrix \n",
    "$ m = \\begin{bmatrix} 1 - i & 2 \\\\ 3 + i & 4 - 2i \\end{bmatrix} $ \n",
    "by the complex scalar $$ 2 + 3i $$."
   ]
  },
  {
   "cell_type": "code",
   "execution_count": 6,
   "id": "9279dc1e",
   "metadata": {},
   "outputs": [
    {
     "name": "stdout",
     "output_type": "stream",
     "text": [
      "El producto de la matriz m4 por la constante es:\n",
      " [[-1. +5.j  4. +6.j]\n",
      " [ 3.+11.j 14. +8.j]]\n"
     ]
    }
   ],
   "source": [
    "m4 = np.array([[1 + 1j, 2],\n",
    "                [3 + 1j, 4 - 2j]])\n",
    "\n",
    "constante = 2 + 3j\n",
    "producto_m4 = constante * m4\n",
    "print(\"El producto de la matriz m4 por la constante es:\\n\", producto_m4)"
   ]
  },
  {
   "cell_type": "markdown",
   "id": "990c0033",
   "metadata": {},
   "source": [
    "### Exercise 10: Conjugate of a Complex Matrix\n",
    "Compute the conjugate of the complex matrix \n",
    "$ m = \\begin{bmatrix} 1 + i & 2 \\\\ 3 - i & 4 + 2i \\end{bmatrix} $."
   ]
  },
  {
   "cell_type": "code",
   "execution_count": 7,
   "id": "fe520f16",
   "metadata": {},
   "outputs": [
    {
     "name": "stdout",
     "output_type": "stream",
     "text": [
      "El conjugado de la matriz m5 es:\n",
      " [[1.-1.j 2.-0.j]\n",
      " [3.+1.j 4.-2.j]]\n"
     ]
    }
   ],
   "source": [
    "m5 = np.array([[1 + 1j, 2],\n",
    "                [3 - 1j, 4 + 2j]])\n",
    "conjugado_m5 = np.conj(m5)\n",
    "print(\"El conjugado de la matriz m5 es:\\n\", conjugado_m5)"
   ]
  },
  {
   "cell_type": "markdown",
   "id": "07b93253",
   "metadata": {},
   "source": [
    "### Exercise 11: Transpose of a Complex Matrix\n",
    "Find the transpose of the complex matrix \n",
    "$ m = \\begin{bmatrix} 1 - i & 2 + 2i \\\\ 3 & 4 - i \\end{bmatrix} $.\n"
   ]
  },
  {
   "cell_type": "code",
   "execution_count": null,
   "id": "2bf5007b",
   "metadata": {},
   "outputs": [],
   "source": [
    "m6 = np.array([[1 - 1j, 2 + 2j], \n",
    "                [3, 4 - 1j]])\n",
    "\n",
    "transpuesta_m6 = m6.T\n",
    "print(\"La transpuesta de la matriz m6 es:\\n\", transpuesta_m6)"
   ]
  },
  {
   "cell_type": "markdown",
   "id": "06706046",
   "metadata": {},
   "source": [
    "### Exercise 12: Adjunct (Conjugate Transpose) of a Complex Matrix\n",
    "Calculate the adjunct (or conjugate transpose) of the complex matrix \n",
    "$ m = \\begin{bmatrix} 1 + 2i & 3 - i \\\\ 4 & 5 + i \\end{bmatrix} $.\n"
   ]
  },
  {
   "cell_type": "code",
   "execution_count": null,
   "id": "65d4f435",
   "metadata": {},
   "outputs": [],
   "source": [
    "m7 = np.array([[1 + 2j, 3- 1j],\n",
    "                [4, 5 + 1j]])\n",
    "\n",
    "conjugado_m7 = np.conj(m7)\n",
    "adjunta_m7 = conjugado_m7.T\n",
    "print(\"La adjunta de la matriz m7 es:\\n\", adjunta_m7)"
   ]
  },
  {
   "cell_type": "markdown",
   "id": "6c342b21",
   "metadata": {},
   "source": [
    "### Exercise 13: Checking the Dimensions of a Matrix\n",
    "Determine the dimensions of the complex matrix \n",
    "$ m = \\begin{bmatrix} 1 - i & 2 \\\\ 3 + 2i & 4 - i \\end{bmatrix} $."
   ]
  },
  {
   "cell_type": "code",
   "execution_count": 8,
   "id": "91f4fa5d",
   "metadata": {},
   "outputs": [
    {
     "data": {
      "text/plain": [
       "(2, 2)"
      ]
     },
     "execution_count": 8,
     "metadata": {},
     "output_type": "execute_result"
    }
   ],
   "source": [
    "m8 = np.array([[1 - 1j, 2],\n",
    "                [3 + 2j, 4 - 1j]])\n",
    "\n",
    "m8.shape\n"
   ]
  },
  {
   "cell_type": "markdown",
   "id": "9293f641",
   "metadata": {},
   "source": [
    "### Exercise 14: Multiplying a Complex Square Matrix by a Complex Column Vector\n",
    "Multiply the complex square matrix \n",
    "$ m = \\begin{bmatrix} 1 + i & 2 - i \\\\ 3 & 4 + i \\end{bmatrix} $ \n",
    "by the complex column vector \n",
    "$ v = \\begin{bmatrix} 2 - i \\\\ 1 + 3i \\end{bmatrix} $."
   ]
  },
  {
   "cell_type": "code",
   "execution_count": 9,
   "id": "10f04be6",
   "metadata": {},
   "outputs": [
    {
     "name": "stdout",
     "output_type": "stream",
     "text": [
      "El resultado de la multiplicación de la matriz m9 por el vector v9 es: [8. +6.j 7.+10.j]\n"
     ]
    }
   ],
   "source": [
    "m9 = np.array([[1 + 1j, 2 - 1j],\n",
    "                [3 , 4 + 1j]])\n",
    "\n",
    "v9 = np.array([2 - 1j, 1 + 3j])\n",
    "\n",
    "multiplicacion = np.dot(m9, v9)\n",
    "print(\"El resultado de la multiplicación de la matriz m9 por el vector v9 es:\", multiplicacion)"
   ]
  }
 ],
 "metadata": {
  "kernelspec": {
   "display_name": "Python 3",
   "language": "python",
   "name": "python3"
  },
  "language_info": {
   "codemirror_mode": {
    "name": "ipython",
    "version": 3
   },
   "file_extension": ".py",
   "mimetype": "text/x-python",
   "name": "python",
   "nbconvert_exporter": "python",
   "pygments_lexer": "ipython3",
   "version": "3.11.9"
  }
 },
 "nbformat": 4,
 "nbformat_minor": 5
}

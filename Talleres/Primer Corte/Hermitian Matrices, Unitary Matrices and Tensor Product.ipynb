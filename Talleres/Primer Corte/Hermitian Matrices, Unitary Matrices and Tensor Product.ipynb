{
 "cells": [
  {
   "cell_type": "markdown",
   "id": "68b69841",
   "metadata": {},
   "source": [
    "**Taller 4 - Hermitian Matrices, Unitary Matrices and Tensor Product**\n",
    "\n",
    "**Curso:** CNYT-1\n",
    "\n",
    "**Autor:** Juan Tellez "
   ]
  },
  {
   "cell_type": "code",
   "execution_count": 1,
   "id": "962f3cf1",
   "metadata": {},
   "outputs": [],
   "source": [
    "import numpy as np"
   ]
  },
  {
   "cell_type": "markdown",
   "id": "4bc254d7",
   "metadata": {},
   "source": [
    "## Exercise 1: Complex Hermitian Matrices\n",
    "\n",
    "Consider the matrix:\n",
    "\n",
    "$$ H = \\begin{bmatrix} 3 & 2+i \\\\ 2-i & 1 \\end{bmatrix} $$\n",
    "\n",
    "- Verify if $ H $ is a Hermitian matrix.\n",
    "- If it is, find its eigenvalues."
   ]
  },
  {
   "cell_type": "code",
   "execution_count": null,
   "id": "01a5b095",
   "metadata": {},
   "outputs": [],
   "source": [
    "matrix = np.array([[3, 2 + 1j],\n",
    "              [2 - 1j, 1]])\n",
    "\n",
    "is_hermitian = np.allclose(matrix, matrix.conj().T)\n",
    "\n",
    "if(is_hermitian):\n",
    "    print(\"La matriz es hermitica\")\n",
    "\n",
    "    eigenvalues = np.linalg.eig(matrix)\n",
    "    print(\"Eigenvalues:\", eigenvalues[0])\n",
    "else:\n",
    "    print(\"La matriz no es hermitica\")"
   ]
  },
  {
   "cell_type": "markdown",
   "id": "0515acde",
   "metadata": {},
   "source": [
    "## Exercise 2: Complex Unitary Matrices\n",
    "\n",
    "Consider the matrix:\n",
    "\n",
    "$$ U = \\frac{1}{\\sqrt{2}}\\begin{bmatrix} 1 & i \\\\ i & 1 \\end{bmatrix} $$\n",
    "\n",
    "- Verify if $ U $ is a Unitary matrix.\n",
    "- Compute $ UU^\\dagger $ to confirm its Unitarity, where $ U^\\dagger $ denotes the conjugate transpose of $ U $."
   ]
  },
  {
   "cell_type": "code",
   "execution_count": null,
   "id": "cdf6a997",
   "metadata": {},
   "outputs": [],
   "source": [
    "unitary_matrix = np.array([[1/np.sqrt(2), 1/np.sqrt(2)*1j], \n",
    "                           [1/np.sqrt(2)*1j, 1/np.sqrt(2)]])\n",
    "\n",
    "# Check if the matrix is Unitary\n",
    "# np.eye(2) returns the identity of size 2x2\n",
    "is_unitary = np.allclose(np.dot(unitary_matrix, unitary_matrix.conj().T), np.eye(2))\n",
    "\n",
    "if(is_unitary):\n",
    "    print(\"La matriz es unitaria\")\n",
    "    u = np.dot(unitary_matrix, unitary_matrix.conj().T)\n",
    "    print(u)\n",
    "    \n",
    "else:\n",
    "    print(\"La matriz no es unitaria\")"
   ]
  },
  {
   "cell_type": "markdown",
   "id": "104602ed",
   "metadata": {},
   "source": [
    "## Exercise 3: Tensor Product for Complex Vectors\n",
    "\n",
    "Given the complex vectors:\n",
    "\n",
    "$$ \\mathbf{v} = \\begin{bmatrix} 1+i \\\\ 2-i \\end{bmatrix}, \\quad \\mathbf{w} = \\begin{bmatrix} 1-2i \\\\ 3 \\end{bmatrix} $$\n",
    "\n",
    "Calculate the tensor product $ \\mathbf{v} \\otimes \\mathbf{w} $."
   ]
  },
  {
   "cell_type": "code",
   "execution_count": 5,
   "id": "1a1b6584",
   "metadata": {},
   "outputs": [
    {
     "data": {
      "text/plain": [
       "array([[3.-1.j, 3.+3.j, 0.-5.j, 6.-3.j]])"
      ]
     },
     "execution_count": 5,
     "metadata": {},
     "output_type": "execute_result"
    }
   ],
   "source": [
    "v1 = np.array([[1+1j, 2-1j]])\n",
    "v2 = np.array([[1-2j, 3]])\n",
    "\n",
    "# Calculate the tensor product\n",
    "tensor_product_v = np.kron(v1, v2)\n",
    "\n",
    "tensor_product_v"
   ]
  },
  {
   "cell_type": "markdown",
   "id": "42fdc046",
   "metadata": {},
   "source": [
    "## Exercise 4: Tensor Product for Complex Matrices\n",
    "\n",
    "Given the matrices:\n",
    "\n",
    "$$ M_1 = \\begin{bmatrix} 0 & 1 \\\\ 1 & 0 \\end{bmatrix}, \\quad M_2 = \\begin{bmatrix} i & 0 \\\\ 0 & -i \\end{bmatrix} $$\n",
    "\n",
    "Calculate the tensor product $ M_1 \\otimes M_2 $."
   ]
  },
  {
   "cell_type": "code",
   "execution_count": 6,
   "id": "0f629248",
   "metadata": {},
   "outputs": [
    {
     "data": {
      "text/plain": [
       "array([[0.+0.j, 0.+0.j, 0.+1.j, 0.+0.j],\n",
       "       [0.+0.j, 0.-0.j, 0.+0.j, 0.-1.j],\n",
       "       [0.+1.j, 0.+0.j, 0.+0.j, 0.+0.j],\n",
       "       [0.+0.j, 0.-1.j, 0.+0.j, 0.-0.j]])"
      ]
     },
     "execution_count": 6,
     "metadata": {},
     "output_type": "execute_result"
    }
   ],
   "source": [
    "# Define two complex matrices for the tensor product\n",
    "M1 = np.array([[0, 1], \n",
    "               [1, 0]])\n",
    "M2 = np.array([[1j, 0], \n",
    "               [0, -1j]])\n",
    "\n",
    "# Calculate the tensor product\n",
    "tensor_product_m = np.kron(M1, M2)\n",
    "\n",
    "tensor_product_m"
   ]
  },
  {
   "cell_type": "markdown",
   "id": "c4016168",
   "metadata": {},
   "source": [
    "## Exercise 5: Modelling quantum computations with vectors and matrices\n",
    "\n",
    "Using matrices and vectors, implement a model of the Mach/Zehnder interferometer.\n",
    "\n",
    "![Mach-Zehnder interferometer](images/Mach-Zehnder-Interferometer.png)"
   ]
  },
  {
   "cell_type": "code",
   "execution_count": 7,
   "id": "dea256f0",
   "metadata": {},
   "outputs": [
    {
     "name": "stdout",
     "output_type": "stream",
     "text": [
      "Probabilidad de detector superior [0.5]\n",
      "Probabilidad de detector inferior [0.5]\n"
     ]
    }
   ],
   "source": [
    "estado_inicial_Zehnder = np.array([[1],\n",
    "                          [0]])\n",
    "\n",
    "divisor_haz = (1/np.sqrt(2)) * np.array([[1, 1],\n",
    "                                         [1, -1]])\n",
    "\n",
    "espejo = np.array([[0, 1],\n",
    "                   [1, 0]])\n",
    "\n",
    "phi = np.pi/2\n",
    "fase = np.array([[np.exp(1j*phi), 0],\n",
    "                 [0,1]])\n",
    "\n",
    "estado_Zehnder = divisor_haz @ estado_inicial\n",
    "estado_Zehnder = fase @ estado_Zehnder\n",
    "estado_Zehnder = espejo @ estado_Zehnder\n",
    "estado_Zehnder = divisor_haz @ estado_Zehnder\n",
    "\n",
    "probabilidades = np.abs(estado_Zehnder)**2\n",
    "\n",
    "print(\"Probabilidad de detector superior\", probabilidades[0])\n",
    "print(\"Probabilidad de detector inferior\", probabilidades[1])\n",
    "\n"
   ]
  },
  {
   "cell_type": "markdown",
   "id": "f0fead1e",
   "metadata": {},
   "source": [
    "## Exercise 6: Composing quantum systems \n",
    "\n",
    "Using matrices and vectors, implement a model of the following circuit.\n",
    "\n",
    "![Deutsch-Algorithm](images/Deutsch-Algorithm.png)\n",
    "\n",
    "Use the following MAtrix for $U_f$:\n",
    "\n",
    "![Mach-Zehnder interferometer](images/ExampleUf.png)"
   ]
  },
  {
   "cell_type": "code",
   "execution_count": 9,
   "id": "63f4a662",
   "metadata": {},
   "outputs": [
    {
     "name": "stdout",
     "output_type": "stream",
     "text": [
      "Probabilidad de obtener |0> en el primer qubit: [0.]\n",
      "Probabilidad de obtener |1> en el primer qubit: [1.]\n"
     ]
    }
   ],
   "source": [
    "H = (1/np.sqrt(2)) * np.array([[1, 1],\n",
    "                               [1, -1]])\n",
    "\n",
    "estado_inicial_Deutsch = np.array([[1], [0]])  # |0>\n",
    "estado_inicial_auxiliar = np.array([[0], [1]]) # |1>\n",
    "estado_Deutsch = np.kron(estado_inicial_Deutsch, estado_inicial_auxiliar)\n",
    "\n",
    "Uf = np.array([[0, 1, 0, 0],\n",
    "               [1, 0, 0, 0],\n",
    "               [0, 0, 1, 0],\n",
    "               [0, 0, 0, 1]])\n",
    "\n",
    "H2 = np.kron(H, H)\n",
    "estado_Deutsch = H2 @ estado_Deutsch\n",
    "estado_Deutsch = Uf @ estado_Deutsch\n",
    "\n",
    "H1_I = np.kron(H, np.eye(2))\n",
    "estado_Deutsch = H1_I @ estado_Deutsch\n",
    "\n",
    "probabilidad_0 = np.abs(estado_Deutsch[0])**2 + np.abs(estado_Deutsch[1])**2\n",
    "probabilidad_1 = np.abs(estado_Deutsch[2])**2 + np.abs(estado_Deutsch[3])**2\n",
    "\n",
    "print(\"Probabilidad de obtener |0> en el primer qubit:\", probabilidad_0)\n",
    "print(\"Probabilidad de obtener |1> en el primer qubit:\", probabilidad_1)"
   ]
  }
 ],
 "metadata": {
  "kernelspec": {
   "display_name": "Python 3",
   "language": "python",
   "name": "python3"
  },
  "language_info": {
   "codemirror_mode": {
    "name": "ipython",
    "version": 3
   },
   "file_extension": ".py",
   "mimetype": "text/x-python",
   "name": "python",
   "nbconvert_exporter": "python",
   "pygments_lexer": "ipython3",
   "version": "3.11.9"
  }
 },
 "nbformat": 4,
 "nbformat_minor": 5
}
